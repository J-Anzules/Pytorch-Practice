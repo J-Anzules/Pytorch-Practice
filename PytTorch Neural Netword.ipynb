{
 "cells": [
  {
   "cell_type": "code",
   "execution_count": 130,
   "id": "c0c05019",
   "metadata": {},
   "outputs": [],
   "source": [
    "import sklearn\n",
    "from sklearn.datasets import make_circles"
   ]
  },
  {
   "cell_type": "code",
   "execution_count": 131,
   "id": "b4ba77a7",
   "metadata": {},
   "outputs": [
    {
     "data": {
      "text/plain": [
       "(1000, 1000)"
      ]
     },
     "execution_count": 131,
     "metadata": {},
     "output_type": "execute_result"
    }
   ],
   "source": [
    "# Make 1000 samples\n",
    "n_samples = 1000\n",
    "\n",
    "#Create circles\n",
    "# X typically a matrix features\n",
    "X, y = make_circles(n_samples, \n",
    "                   noise = 0.03,\n",
    "                   random_state = 42)\n",
    "\n",
    "len(X),  len(y)"
   ]
  },
  {
   "cell_type": "code",
   "execution_count": 132,
   "id": "77545ca9",
   "metadata": {},
   "outputs": [],
   "source": [
    "X = torch.from_numpy(X).type(torch.float32)\n",
    "y = torch.from_numpy(y).type(torch.float)"
   ]
  },
  {
   "cell_type": "code",
   "execution_count": 133,
   "id": "6979db57",
   "metadata": {},
   "outputs": [
    {
     "data": {
      "text/plain": [
       "800"
      ]
     },
     "execution_count": 133,
     "metadata": {},
     "output_type": "execute_result"
    }
   ],
   "source": [
    "# Split data into training and test sets\n",
    "from sklearn.model_selection import train_test_split\n",
    "\n",
    "#This is the order of the test split\n",
    "X_train, X_test, y_train, y_test = train_test_split(X,\n",
    "                                                   y,\n",
    "                                                   test_size= 0.2,\n",
    "                                                   random_state=42)\n",
    "len(X_train)"
   ]
  },
  {
   "cell_type": "code",
   "execution_count": 134,
   "id": "21cdcf6d",
   "metadata": {},
   "outputs": [
    {
     "data": {
      "text/plain": [
       "'cuda'"
      ]
     },
     "execution_count": 134,
     "metadata": {},
     "output_type": "execute_result"
    }
   ],
   "source": [
    "import torch\n",
    "from torch import nn\n",
    "\n",
    "# Make device agnostic code\n",
    "device = \"cuda\" if torch.cuda.is_available() else \"cpu\"\n",
    "device"
   ]
  },
  {
   "cell_type": "code",
   "execution_count": 123,
   "id": "91959bac",
   "metadata": {},
   "outputs": [],
   "source": [
    "# Construct a model that subclasses nn.Module\n",
    "\n",
    "class CircleModelV0(nn.Module):\n",
    "    def __init__(self):\n",
    "        super().__init__()\n",
    "        # 2. Create 2 nn.Linear layers capable of handling our data\n",
    "        self.layer_1 = nn.Linear(in_features = 2, out_features=5) #The out features of this layer has to match the next layer\n",
    "        self.layer_2 = nn.Linear(in_features = 5, out_features = 1) #Out puts a single features, same shape as y\n",
    "    # 3. Define a forward() method that outlines the forward pass\n",
    "    def forward(self, x):\n",
    "        return self.layer_2(self.layer_1(x)) # x -> layer 1 -> layer_2 -> output\n",
    "    "
   ]
  },
  {
   "cell_type": "code",
   "execution_count": 124,
   "id": "b0f2bb75",
   "metadata": {},
   "outputs": [
    {
     "data": {
      "text/plain": [
       "tensor([[ 0.7542,  0.2315],\n",
       "        [-0.7562,  0.1533],\n",
       "        [-0.8154,  0.1733],\n",
       "        [-0.3937,  0.6929],\n",
       "        [ 0.4422, -0.8967]])"
      ]
     },
     "execution_count": 124,
     "metadata": {},
     "output_type": "execute_result"
    }
   ],
   "source": [
    "X[:5]"
   ]
  },
  {
   "cell_type": "code",
   "execution_count": 125,
   "id": "bef4fbff",
   "metadata": {
    "scrolled": true
   },
   "outputs": [
    {
     "data": {
      "text/html": [
       "<div>\n",
       "<style scoped>\n",
       "    .dataframe tbody tr th:only-of-type {\n",
       "        vertical-align: middle;\n",
       "    }\n",
       "\n",
       "    .dataframe tbody tr th {\n",
       "        vertical-align: top;\n",
       "    }\n",
       "\n",
       "    .dataframe thead th {\n",
       "        text-align: right;\n",
       "    }\n",
       "</style>\n",
       "<table border=\"1\" class=\"dataframe\">\n",
       "  <thead>\n",
       "    <tr style=\"text-align: right;\">\n",
       "      <th></th>\n",
       "      <th>X1</th>\n",
       "      <th>X2</th>\n",
       "      <th>label</th>\n",
       "    </tr>\n",
       "  </thead>\n",
       "  <tbody>\n",
       "    <tr>\n",
       "      <th>0</th>\n",
       "      <td>0.754246</td>\n",
       "      <td>0.231481</td>\n",
       "      <td>1.0</td>\n",
       "    </tr>\n",
       "    <tr>\n",
       "      <th>1</th>\n",
       "      <td>-0.756159</td>\n",
       "      <td>0.153259</td>\n",
       "      <td>1.0</td>\n",
       "    </tr>\n",
       "    <tr>\n",
       "      <th>2</th>\n",
       "      <td>-0.815392</td>\n",
       "      <td>0.173282</td>\n",
       "      <td>1.0</td>\n",
       "    </tr>\n",
       "    <tr>\n",
       "      <th>3</th>\n",
       "      <td>-0.393731</td>\n",
       "      <td>0.692883</td>\n",
       "      <td>1.0</td>\n",
       "    </tr>\n",
       "    <tr>\n",
       "      <th>4</th>\n",
       "      <td>0.442208</td>\n",
       "      <td>-0.896723</td>\n",
       "      <td>0.0</td>\n",
       "    </tr>\n",
       "    <tr>\n",
       "      <th>5</th>\n",
       "      <td>-0.479646</td>\n",
       "      <td>0.676435</td>\n",
       "      <td>1.0</td>\n",
       "    </tr>\n",
       "    <tr>\n",
       "      <th>6</th>\n",
       "      <td>-0.013648</td>\n",
       "      <td>0.803349</td>\n",
       "      <td>1.0</td>\n",
       "    </tr>\n",
       "    <tr>\n",
       "      <th>7</th>\n",
       "      <td>0.771513</td>\n",
       "      <td>0.147760</td>\n",
       "      <td>1.0</td>\n",
       "    </tr>\n",
       "    <tr>\n",
       "      <th>8</th>\n",
       "      <td>-0.169322</td>\n",
       "      <td>-0.793456</td>\n",
       "      <td>1.0</td>\n",
       "    </tr>\n",
       "    <tr>\n",
       "      <th>9</th>\n",
       "      <td>-0.121486</td>\n",
       "      <td>1.021509</td>\n",
       "      <td>0.0</td>\n",
       "    </tr>\n",
       "  </tbody>\n",
       "</table>\n",
       "</div>"
      ],
      "text/plain": [
       "         X1        X2  label\n",
       "0  0.754246  0.231481    1.0\n",
       "1 -0.756159  0.153259    1.0\n",
       "2 -0.815392  0.173282    1.0\n",
       "3 -0.393731  0.692883    1.0\n",
       "4  0.442208 -0.896723    0.0\n",
       "5 -0.479646  0.676435    1.0\n",
       "6 -0.013648  0.803349    1.0\n",
       "7  0.771513  0.147760    1.0\n",
       "8 -0.169322 -0.793456    1.0\n",
       "9 -0.121486  1.021509    0.0"
      ]
     },
     "execution_count": 125,
     "metadata": {},
     "output_type": "execute_result"
    }
   ],
   "source": [
    "import pandas as pd\n",
    "circles = pd.DataFrame({\"X1\": X[:, 0], \n",
    "                        \"X2\": X[:,1],\n",
    "                       \"label\": y})\n",
    "\n",
    "circles.head(10)"
   ]
  },
  {
   "cell_type": "code",
   "execution_count": 80,
   "id": "faf11982",
   "metadata": {},
   "outputs": [
    {
     "data": {
      "text/plain": [
       "<matplotlib.collections.PathCollection at 0x19d52b4abe0>"
      ]
     },
     "execution_count": 80,
     "metadata": {},
     "output_type": "execute_result"
    },
    {
     "data": {
      "image/png": "[encoded data removed]",
      "text/plain": [
       "<Figure size 432x288 with 1 Axes>"
      ]
     },
     "metadata": {
      "needs_background": "light"
     },
     "output_type": "display_data"
    }
   ],
   "source": [
    "#Visualize\n",
    "import matplotlib.pyplot as plt\n",
    "plt.scatter(x = X[:,0],\n",
    "            y= X[:,1],\n",
    "            c = y,\n",
    "           cmap = plt.cm.RdYlBu)"
   ]
  },
  {
   "cell_type": "markdown",
   "id": "ce24093d",
   "metadata": {},
   "source": [
    "# 1 Check input and output shapes"
   ]
  },
  {
   "cell_type": "code",
   "execution_count": 31,
   "id": "5473dd9a",
   "metadata": {},
   "outputs": [
    {
     "data": {
      "text/plain": [
       "((1000, 2), (1000,))"
      ]
     },
     "execution_count": 31,
     "metadata": {},
     "output_type": "execute_result"
    }
   ],
   "source": [
    "X.shape, y.shape"
   ]
  },
  {
   "cell_type": "code",
   "execution_count": 32,
   "id": "d30ceae8",
   "metadata": {},
   "outputs": [
    {
     "name": "stdout",
     "output_type": "stream",
     "text": [
      "Values for one sample of X: [0.75424625 0.23148074] and the same for y: 1\n",
      "Shapes for one sample of X: (2,) and the same for y ()\n"
     ]
    }
   ],
   "source": [
    "# View the first example of features and labels\n",
    "\n",
    "X_sample = X[0]\n",
    "y_sample = y[0]\n",
    "\n",
    "print(f\"Values for one sample of X: {X_sample} and the same for y: {y_sample}\")\n",
    "print(f\"Shapes for one sample of X: {X_sample.shape} and the same for y {y_sample.shape}\")\n",
    "    "
   ]
  },
  {
   "cell_type": "markdown",
   "id": "1f6d022d",
   "metadata": {},
   "source": [
    "##  1.2 Turn our data into tensors and create train and test splits"
   ]
  },
  {
   "cell_type": "code",
   "execution_count": 1,
   "id": "e318344f",
   "metadata": {},
   "outputs": [],
   "source": [
    "import torch"
   ]
  },
  {
   "cell_type": "code",
   "execution_count": 2,
   "id": "2688be8d",
   "metadata": {},
   "outputs": [
    {
     "data": {
      "text/plain": [
       "'1.13.1'"
      ]
     },
     "execution_count": 2,
     "metadata": {},
     "output_type": "execute_result"
    }
   ],
   "source": [
    "# turn data into tensors\n",
    "import torch\n",
    "torch.__version__"
   ]
  },
  {
   "cell_type": "code",
   "execution_count": 26,
   "id": "877b7de7",
   "metadata": {},
   "outputs": [
    {
     "ename": "NameError",
     "evalue": "name 'X' is not defined",
     "output_type": "error",
     "traceback": [
      "\u001b[1;31m---------------------------------------------------------------------------\u001b[0m",
      "\u001b[1;31mNameError\u001b[0m                                 Traceback (most recent call last)",
      "Input \u001b[1;32mIn [26]\u001b[0m, in \u001b[0;36m<cell line: 1>\u001b[1;34m()\u001b[0m\n\u001b[1;32m----> 1\u001b[0m \u001b[38;5;28mtype\u001b[39m(\u001b[43mX\u001b[49m), X\u001b[38;5;241m.\u001b[39mdtype\n",
      "\u001b[1;31mNameError\u001b[0m: name 'X' is not defined"
     ]
    }
   ],
   "source": [
    "type(X), X.dtype"
   ]
  },
  {
   "cell_type": "code",
   "execution_count": 33,
   "id": "ea78620c",
   "metadata": {},
   "outputs": [],
   "source": [
    "X = torch.from_numpy(X).type(torch.float32)\n",
    "y = torch.from_numpy(y).type(torch.float)"
   ]
  },
  {
   "cell_type": "code",
   "execution_count": 34,
   "id": "0cfbbf2e",
   "metadata": {},
   "outputs": [
    {
     "data": {
      "text/plain": [
       "(tensor([[ 0.7542,  0.2315],\n",
       "         [-0.7562,  0.1533],\n",
       "         [-0.8154,  0.1733],\n",
       "         [-0.3937,  0.6929],\n",
       "         [ 0.4422, -0.8967]]),\n",
       " tensor([1., 1., 1., 1., 0.]))"
      ]
     },
     "execution_count": 34,
     "metadata": {},
     "output_type": "execute_result"
    }
   ],
   "source": [
    "X[:5], y[:5]"
   ]
  },
  {
   "cell_type": "code",
   "execution_count": 81,
   "id": "99972dfa",
   "metadata": {},
   "outputs": [
    {
     "data": {
      "text/plain": [
       "800"
      ]
     },
     "execution_count": 81,
     "metadata": {},
     "output_type": "execute_result"
    }
   ],
   "source": [
    "# Split data into training and test sets\n",
    "from sklearn.model_selection import train_test_split\n",
    "\n",
    "#This is the order of the test split\n",
    "X_train, X_test, y_train, y_test = train_test_split(X,\n",
    "                                                   y,\n",
    "                                                   test_size= 0.2,\n",
    "                                                   random_state=42)\n",
    "len(X_train)"
   ]
  },
  {
   "cell_type": "code",
   "execution_count": 83,
   "id": "f0b5690d",
   "metadata": {},
   "outputs": [
    {
     "data": {
      "text/plain": [
       "True"
      ]
     },
     "execution_count": 83,
     "metadata": {},
     "output_type": "execute_result"
    }
   ],
   "source": [
    "torch.cuda.is_available()"
   ]
  },
  {
   "cell_type": "code",
   "execution_count": 36,
   "id": "75939060",
   "metadata": {},
   "outputs": [
    {
     "data": {
      "text/plain": [
       "'cuda'"
      ]
     },
     "execution_count": 36,
     "metadata": {},
     "output_type": "execute_result"
    }
   ],
   "source": [
    "import torch\n",
    "from torch import nn\n",
    "\n",
    "# Make device agnostic code\n",
    "device = \"cuda\" if torch.cuda.is_available() else \"cpu\"\n",
    "device"
   ]
  },
  {
   "cell_type": "markdown",
   "id": "ffa6b829",
   "metadata": {},
   "source": [
    "We'll break it down into a few parts.\n",
    "\n",
    "1. Setting up device agnostic code (so our model can run on CPU or GPU if it's available).\n",
    "2. Constructing a model by subclassing nn.Module.\n",
    "3. Defining a loss function and optimizer.\n",
    "4. Creating a training loop (this'll be in the next section)."
   ]
  },
  {
   "cell_type": "code",
   "execution_count": 15,
   "id": "a015947f",
   "metadata": {},
   "outputs": [],
   "source": [
    "from sklearn import datasets"
   ]
  },
  {
   "cell_type": "code",
   "execution_count": 104,
   "id": "6a800a0d",
   "metadata": {},
   "outputs": [],
   "source": [
    "# Construct a model that subclasses nn.Module\n",
    "\n",
    "class CircleModelV0(nn.Module):\n",
    "    def __init__(self):\n",
    "        super().__init__()\n",
    "        # 2. Create 2 nn.Linear layers capable of handling our data\n",
    "        self.layer_1 = nn.Linear(in_features = 2, out_features=5) #The out features of this layer has to match the next layer\n",
    "        self.layer_2 = nn.Linear(in_features = 5, out_features = 1) #Out puts a single features, same shape as y\n",
    "    # 3. Define a forward() method that outlines the forward pass\n",
    "    def forward(self, x):\n",
    "        return self.layer_2(self.layer_1(x)) # x -> layer 1 -> layer_2 -> output\n",
    "    "
   ]
  },
  {
   "cell_type": "code",
   "execution_count": 105,
   "id": "9b53f689",
   "metadata": {},
   "outputs": [
    {
     "data": {
      "text/plain": [
       "CircleModelV0(\n",
       "  (layer_1): Linear(in_features=2, out_features=5, bias=True)\n",
       "  (layer_2): Linear(in_features=5, out_features=1, bias=True)\n",
       ")"
      ]
     },
     "execution_count": 105,
     "metadata": {},
     "output_type": "execute_result"
    }
   ],
   "source": [
    "#Instantiate an instance of our model class and send it to the target device\n",
    "model_0 = CircleModelV0().to(device)    \n",
    "model_0    \n",
    "    "
   ]
  },
  {
   "cell_type": "code",
   "execution_count": 20,
   "id": "5438eed8",
   "metadata": {},
   "outputs": [
    {
     "data": {
      "text/plain": [
       "'cuda'"
      ]
     },
     "execution_count": 20,
     "metadata": {},
     "output_type": "execute_result"
    }
   ],
   "source": [
    "device"
   ]
  },
  {
   "cell_type": "code",
   "execution_count": 21,
   "id": "db3086f6",
   "metadata": {},
   "outputs": [
    {
     "data": {
      "text/plain": [
       "device(type='cuda', index=0)"
      ]
     },
     "execution_count": 21,
     "metadata": {},
     "output_type": "execute_result"
    }
   ],
   "source": [
    "next(model_0.parameters()).device"
   ]
  },
  {
   "cell_type": "code",
   "execution_count": 22,
   "id": "d4bc9b90",
   "metadata": {},
   "outputs": [
    {
     "data": {
      "text/plain": [
       "Sequential(\n",
       "  (0): Linear(in_features=2, out_features=5, bias=True)\n",
       "  (1): Linear(in_features=5, out_features=1, bias=True)\n",
       ")"
      ]
     },
     "execution_count": 22,
     "metadata": {},
     "output_type": "execute_result"
    }
   ],
   "source": [
    "model_1 = nn.Sequential(\n",
    "    nn.Linear(in_features=2, out_features = 5),\n",
    "    nn.Linear(in_features=5, out_features=1)\n",
    ").to(device)\n",
    "\n",
    "model_1"
   ]
  },
  {
   "cell_type": "code",
   "execution_count": 23,
   "id": "21624be4",
   "metadata": {},
   "outputs": [
    {
     "data": {
      "text/plain": [
       "OrderedDict([('layer_1.weight',\n",
       "              tensor([[-0.5152,  0.6237],\n",
       "                      [-0.6757,  0.2194],\n",
       "                      [ 0.1934,  0.2352],\n",
       "                      [-0.6107, -0.0606],\n",
       "                      [-0.4736, -0.2816]], device='cuda:0')),\n",
       "             ('layer_1.bias',\n",
       "              tensor([ 0.4605, -0.6483,  0.2784,  0.1392,  0.0016], device='cuda:0')),\n",
       "             ('layer_2.weight',\n",
       "              tensor([[-0.0435,  0.1032,  0.1285, -0.4211,  0.2570]], device='cuda:0')),\n",
       "             ('layer_2.bias', tensor([0.1570], device='cuda:0'))])"
      ]
     },
     "execution_count": 23,
     "metadata": {},
     "output_type": "execute_result"
    }
   ],
   "source": [
    "model_0.state_dict()"
   ]
  },
  {
   "cell_type": "code",
   "execution_count": 44,
   "id": "30f8b2c6",
   "metadata": {},
   "outputs": [],
   "source": [
    "with torch.inference_mode():\n",
    "    untrained_preds = model_0(X_test.to(device))"
   ]
  },
  {
   "cell_type": "code",
   "execution_count": 45,
   "id": "c73cac39",
   "metadata": {},
   "outputs": [
    {
     "name": "stdout",
     "output_type": "stream",
     "text": [
      "Length of predictions: 200, shape: torch.Size([200, 1])\n",
      "Length of test samples: 200, Shape: torch.Size([200, 2])\n",
      "\n",
      " First 10 predictions: \n",
      " tensor([[-0.0959],\n",
      "        [-0.1344],\n",
      "        [-0.0557],\n",
      "        [-0.1071],\n",
      "        [-0.1519],\n",
      "        [-0.1746],\n",
      "        [-0.2067],\n",
      "        [-0.2163],\n",
      "        [-0.0518],\n",
      "        [-0.1380]], device='cuda:0')\n",
      "\n",
      " First 10 labels: \n",
      " tensor([1., 0., 1., 0., 1., 1., 0., 0., 1., 0.])\n"
     ]
    }
   ],
   "source": [
    "print(f\"Length of predictions: {len(untrained_preds)}, shape: {untrained_preds.shape}\")\n",
    "print(f\"Length of test samples: {len(X_test)}, Shape: {X_test.shape}\")\n",
    "print(f\"\\n First 10 predictions: \\n {untrained_preds[:10]}\")\n",
    "print(f\"\\n First 10 labels: \\n {y_test[:10]}\")"
   ]
  },
  {
   "cell_type": "markdown",
   "id": "a1cc93ad",
   "metadata": {},
   "source": [
    "## Setting up Loss and Optimizer"
   ]
  },
  {
   "cell_type": "code",
   "execution_count": 63,
   "id": "072b0f38",
   "metadata": {},
   "outputs": [],
   "source": [
    "# loss_fn = nn.BCELoss() # BCELoss = requires inputs to have gone through the sigmoid activation fucntion prior to input to BCELoss\n",
    "loss_fn = nn.BCEWithLogitsLoss() # BCEWithLogitsLoss = sigmoid activation function built-in\n",
    "\n",
    "optimizer = torch.optim.SGD(params = model_0.parameters(),\n",
    "                           lr=0.1)"
   ]
  },
  {
   "cell_type": "code",
   "execution_count": 68,
   "id": "28202b77",
   "metadata": {},
   "outputs": [],
   "source": [
    "# Calculate accuracy - true positive / (true positive + true negative) * 100\n",
    "# out of a100 examples, what percentage does our model get right\n",
    "\n",
    "def accuracy_fn(y_true, y_pred):\n",
    "    correct = torch.eq(y_true, y_pred).sum().item() # Counts how many are correct\n",
    "    \n",
    "    acc = (correct/len(y_pred)) * 100\n",
    "    return acc\n"
   ]
  },
  {
   "cell_type": "markdown",
   "id": "0f783431",
   "metadata": {},
   "source": [
    "## 3. Train model\n",
    "\n",
    "to trian our model, we'ere going to need to build a training loop with the following steps:\n",
    "\n",
    "1. Forward pass\n",
    "2. Calculate the loss\n",
    "3. Optimizer zero grad\n",
    "4. Loss backward (backpropogation)\n",
    "5. Optimzer(gradient descent)"
   ]
  },
  {
   "cell_type": "markdown",
   "id": "57306584",
   "metadata": {},
   "source": [
    "### 3.1 Going from raw logits -> prediction probabilities -> prediction labels\n",
    "our model outputs are going to be raw **logits**\n",
    "\n",
    "We can convert these **logits** into **prediction probabilities** by passing them to some kind of activation function (e.g. sigmoid for binary classification and softmax for multiclass classification)\n",
    "\n",
    "Then we can convert our mode's prediction probabilities to **prediction labels** by either rounding them or taking the argmax()."
   ]
  },
  {
   "cell_type": "code",
   "execution_count": 49,
   "id": "e2039ea7",
   "metadata": {},
   "outputs": [
    {
     "data": {
      "text/plain": [
       "tensor([[-0.0959],\n",
       "        [-0.1344],\n",
       "        [-0.0557],\n",
       "        [-0.1071],\n",
       "        [-0.1519]], device='cuda:0')"
      ]
     },
     "execution_count": 49,
     "metadata": {},
     "output_type": "execute_result"
    }
   ],
   "source": [
    "# View the first 5 outputs for the forward pass on the test data\n",
    "\n",
    "model_0.eval()\n",
    "with torch.inference_mode(): #Whenever we are makign predictions run this\n",
    "    y_logits = model_0(X_test.to(device))[:5]\n",
    "y_logits"
   ]
  },
  {
   "cell_type": "code",
   "execution_count": 50,
   "id": "758d7257",
   "metadata": {},
   "outputs": [
    {
     "data": {
      "text/plain": [
       "tensor([1., 0., 1., 0., 1.])"
      ]
     },
     "execution_count": 50,
     "metadata": {},
     "output_type": "execute_result"
    }
   ],
   "source": [
    "y_test[:5]"
   ]
  },
  {
   "cell_type": "markdown",
   "id": "c47bfb92",
   "metadata": {},
   "source": [
    "For our prediction probability values, we need to perform a range-style rounding on them:\n",
    "\n",
    "* y_pred_probs >= 0.5, y=1 (class 1)\n",
    "* y_pred_probs < 0.5, y=0 (class 0)"
   ]
  },
  {
   "cell_type": "code",
   "execution_count": 51,
   "id": "3e4311bf",
   "metadata": {},
   "outputs": [
    {
     "data": {
      "text/plain": [
       "tensor([[0.4760],\n",
       "        [0.4665],\n",
       "        [0.4861],\n",
       "        [0.4733],\n",
       "        [0.4621]], device='cuda:0')"
      ]
     },
     "execution_count": 51,
     "metadata": {},
     "output_type": "execute_result"
    }
   ],
   "source": [
    "# Use the sigmoid activation function on our model logits to turn them into prediction probabilities\n",
    "y_pred_probs =  torch.sigmoid(y_logits)\n",
    "y_pred_probs\n",
    "\n",
    "# sigmoid probabilities for what our model thinks the probability it is for these results to be a certain class"
   ]
  },
  {
   "cell_type": "code",
   "execution_count": 56,
   "id": "444ed6ff",
   "metadata": {},
   "outputs": [
    {
     "name": "stdout",
     "output_type": "stream",
     "text": [
      "tensor([True, True, True, True, True], device='cuda:0')\n"
     ]
    }
   ],
   "source": [
    "# Find the predicted labels\n",
    "y_preds = torch.round(y_pred_probs)\n",
    "\n",
    "# In Full (logits -> pred probs -> pred labels   )\n",
    "y_pred_labels = torch.round(torch.sigmoid(model_0(X_test.to(device))[:5]))\n",
    "\n",
    "# Check for equality, to check if they are equal to each other\n",
    "print(torch.eq(y_preds.squeeze(), y_pred_labels.squeeze()))\n",
    "\n"
   ]
  },
  {
   "cell_type": "code",
   "execution_count": 57,
   "id": "300e015b",
   "metadata": {},
   "outputs": [
    {
     "data": {
      "text/plain": [
       "(tensor([[0.],\n",
       "         [0.],\n",
       "         [0.],\n",
       "         [0.],\n",
       "         [0.]], device='cuda:0'),\n",
       " tensor([[0.],\n",
       "         [0.],\n",
       "         [0.],\n",
       "         [0.],\n",
       "         [0.]], device='cuda:0', grad_fn=<RoundBackward0>))"
      ]
     },
     "execution_count": 57,
     "metadata": {},
     "output_type": "execute_result"
    }
   ],
   "source": [
    "y_preds, y_pred_labels"
   ]
  },
  {
   "cell_type": "markdown",
   "id": "d39fdc09",
   "metadata": {},
   "source": [
    "## 3.2 Building a Training loop"
   ]
  },
  {
   "cell_type": "code",
   "execution_count": null,
   "id": "c5a66a44",
   "metadata": {},
   "outputs": [],
   "source": [
    "# Creating a loss function\n",
    "# loss_fn = nn."
   ]
  },
  {
   "cell_type": "code",
   "execution_count": 103,
   "id": "0b4d77a9",
   "metadata": {},
   "outputs": [
    {
     "data": {
      "text/plain": [
       "tensor([[ 0.6579, -0.4651],\n",
       "        [ 0.6319, -0.7347],\n",
       "        [-1.0086, -0.1240],\n",
       "        ...,\n",
       "        [ 0.0157, -1.0300],\n",
       "        [ 1.0110,  0.1680],\n",
       "        [ 0.5578, -0.5709]], device='cuda:0')"
      ]
     },
     "execution_count": 103,
     "metadata": {},
     "output_type": "execute_result"
    }
   ],
   "source": [
    "# model_0(X_train)\n",
    "X_train"
   ]
  },
  {
   "cell_type": "code",
   "execution_count": 109,
   "id": "c3519fc7",
   "metadata": {
    "scrolled": true
   },
   "outputs": [
    {
     "ename": "RuntimeError",
     "evalue": "Expected all tensors to be on the same device, but found at least two devices, cpu and cuda:0! (when checking argument for argument mat1 in method wrapper_addmm)",
     "output_type": "error",
     "traceback": [
      "\u001b[1;31m---------------------------------------------------------------------------\u001b[0m",
      "\u001b[1;31mRuntimeError\u001b[0m                              Traceback (most recent call last)",
      "Input \u001b[1;32mIn [109]\u001b[0m, in \u001b[0;36m<cell line: 11>\u001b[1;34m()\u001b[0m\n\u001b[0;32m     10\u001b[0m \u001b[38;5;66;03m# Build training and evaluation loop\u001b[39;00m\n\u001b[0;32m     11\u001b[0m \u001b[38;5;28;01mfor\u001b[39;00m epoch \u001b[38;5;129;01min\u001b[39;00m \u001b[38;5;28mrange\u001b[39m(epochs):\n\u001b[0;32m     12\u001b[0m     \u001b[38;5;66;03m### training\u001b[39;00m\n\u001b[0;32m     13\u001b[0m     \n\u001b[0;32m     14\u001b[0m     \u001b[38;5;66;03m# 1. forward pass\u001b[39;00m\n\u001b[1;32m---> 15\u001b[0m     y_logits \u001b[38;5;241m=\u001b[39m \u001b[43mmodel_0\u001b[49m\u001b[43m(\u001b[49m\u001b[43mX_train\u001b[49m\u001b[43m)\u001b[49m\u001b[38;5;241m.\u001b[39msqueeze()\n\u001b[0;32m     16\u001b[0m     y_pred \u001b[38;5;241m=\u001b[39m torch\u001b[38;5;241m.\u001b[39mround(torch\u001b[38;5;241m.\u001b[39msigmoid(y_logits)) \u001b[38;5;66;03m# turn logits -> pred probs -> pred labels\u001b[39;00m\n\u001b[0;32m     18\u001b[0m     \u001b[38;5;66;03m# 2. Calculate loss/accuracy\u001b[39;00m\n\u001b[0;32m     19\u001b[0m     \u001b[38;5;66;03m# Takes in the results from the x_train (logits and compares it to the results of the y_train)\u001b[39;00m\n\u001b[0;32m     20\u001b[0m     \u001b[38;5;66;03m# I'm assuming it is to minimize the loss in that comparison\u001b[39;00m\n",
      "File \u001b[1;32mC:\\ProgramData\\Anaconda3\\lib\\site-packages\\torch\\nn\\modules\\module.py:1194\u001b[0m, in \u001b[0;36mModule._call_impl\u001b[1;34m(self, *input, **kwargs)\u001b[0m\n\u001b[0;32m   1190\u001b[0m \u001b[38;5;66;03m# If we don't have any hooks, we want to skip the rest of the logic in\u001b[39;00m\n\u001b[0;32m   1191\u001b[0m \u001b[38;5;66;03m# this function, and just call forward.\u001b[39;00m\n\u001b[0;32m   1192\u001b[0m \u001b[38;5;28;01mif\u001b[39;00m \u001b[38;5;129;01mnot\u001b[39;00m (\u001b[38;5;28mself\u001b[39m\u001b[38;5;241m.\u001b[39m_backward_hooks \u001b[38;5;129;01mor\u001b[39;00m \u001b[38;5;28mself\u001b[39m\u001b[38;5;241m.\u001b[39m_forward_hooks \u001b[38;5;129;01mor\u001b[39;00m \u001b[38;5;28mself\u001b[39m\u001b[38;5;241m.\u001b[39m_forward_pre_hooks \u001b[38;5;129;01mor\u001b[39;00m _global_backward_hooks\n\u001b[0;32m   1193\u001b[0m         \u001b[38;5;129;01mor\u001b[39;00m _global_forward_hooks \u001b[38;5;129;01mor\u001b[39;00m _global_forward_pre_hooks):\n\u001b[1;32m-> 1194\u001b[0m     \u001b[38;5;28;01mreturn\u001b[39;00m forward_call(\u001b[38;5;241m*\u001b[39m\u001b[38;5;28minput\u001b[39m, \u001b[38;5;241m*\u001b[39m\u001b[38;5;241m*\u001b[39mkwargs)\n\u001b[0;32m   1195\u001b[0m \u001b[38;5;66;03m# Do not call functions when jit is used\u001b[39;00m\n\u001b[0;32m   1196\u001b[0m full_backward_hooks, non_full_backward_hooks \u001b[38;5;241m=\u001b[39m [], []\n",
      "Input \u001b[1;32mIn [107]\u001b[0m, in \u001b[0;36mCircleModelV0.forward\u001b[1;34m(self, x)\u001b[0m\n\u001b[0;32m     10\u001b[0m \u001b[38;5;28;01mdef\u001b[39;00m \u001b[38;5;21mforward\u001b[39m(\u001b[38;5;28mself\u001b[39m, x):\n\u001b[1;32m---> 11\u001b[0m     \u001b[38;5;28;01mreturn\u001b[39;00m \u001b[38;5;28mself\u001b[39m\u001b[38;5;241m.\u001b[39mlayer_2(\u001b[38;5;28;43mself\u001b[39;49m\u001b[38;5;241;43m.\u001b[39;49m\u001b[43mlayer_1\u001b[49m\u001b[43m(\u001b[49m\u001b[43mx\u001b[49m\u001b[43m)\u001b[49m)\n",
      "File \u001b[1;32mC:\\ProgramData\\Anaconda3\\lib\\site-packages\\torch\\nn\\modules\\module.py:1194\u001b[0m, in \u001b[0;36mModule._call_impl\u001b[1;34m(self, *input, **kwargs)\u001b[0m\n\u001b[0;32m   1190\u001b[0m \u001b[38;5;66;03m# If we don't have any hooks, we want to skip the rest of the logic in\u001b[39;00m\n\u001b[0;32m   1191\u001b[0m \u001b[38;5;66;03m# this function, and just call forward.\u001b[39;00m\n\u001b[0;32m   1192\u001b[0m \u001b[38;5;28;01mif\u001b[39;00m \u001b[38;5;129;01mnot\u001b[39;00m (\u001b[38;5;28mself\u001b[39m\u001b[38;5;241m.\u001b[39m_backward_hooks \u001b[38;5;129;01mor\u001b[39;00m \u001b[38;5;28mself\u001b[39m\u001b[38;5;241m.\u001b[39m_forward_hooks \u001b[38;5;129;01mor\u001b[39;00m \u001b[38;5;28mself\u001b[39m\u001b[38;5;241m.\u001b[39m_forward_pre_hooks \u001b[38;5;129;01mor\u001b[39;00m _global_backward_hooks\n\u001b[0;32m   1193\u001b[0m         \u001b[38;5;129;01mor\u001b[39;00m _global_forward_hooks \u001b[38;5;129;01mor\u001b[39;00m _global_forward_pre_hooks):\n\u001b[1;32m-> 1194\u001b[0m     \u001b[38;5;28;01mreturn\u001b[39;00m forward_call(\u001b[38;5;241m*\u001b[39m\u001b[38;5;28minput\u001b[39m, \u001b[38;5;241m*\u001b[39m\u001b[38;5;241m*\u001b[39mkwargs)\n\u001b[0;32m   1195\u001b[0m \u001b[38;5;66;03m# Do not call functions when jit is used\u001b[39;00m\n\u001b[0;32m   1196\u001b[0m full_backward_hooks, non_full_backward_hooks \u001b[38;5;241m=\u001b[39m [], []\n",
      "File \u001b[1;32mC:\\ProgramData\\Anaconda3\\lib\\site-packages\\torch\\nn\\modules\\linear.py:114\u001b[0m, in \u001b[0;36mLinear.forward\u001b[1;34m(self, input)\u001b[0m\n\u001b[0;32m    113\u001b[0m \u001b[38;5;28;01mdef\u001b[39;00m \u001b[38;5;21mforward\u001b[39m(\u001b[38;5;28mself\u001b[39m, \u001b[38;5;28minput\u001b[39m: Tensor) \u001b[38;5;241m-\u001b[39m\u001b[38;5;241m>\u001b[39m Tensor:\n\u001b[1;32m--> 114\u001b[0m     \u001b[38;5;28;01mreturn\u001b[39;00m \u001b[43mF\u001b[49m\u001b[38;5;241;43m.\u001b[39;49m\u001b[43mlinear\u001b[49m\u001b[43m(\u001b[49m\u001b[38;5;28;43minput\u001b[39;49m\u001b[43m,\u001b[49m\u001b[43m \u001b[49m\u001b[38;5;28;43mself\u001b[39;49m\u001b[38;5;241;43m.\u001b[39;49m\u001b[43mweight\u001b[49m\u001b[43m,\u001b[49m\u001b[43m \u001b[49m\u001b[38;5;28;43mself\u001b[39;49m\u001b[38;5;241;43m.\u001b[39;49m\u001b[43mbias\u001b[49m\u001b[43m)\u001b[49m\n",
      "\u001b[1;31mRuntimeError\u001b[0m: Expected all tensors to be on the same device, but found at least two devices, cpu and cuda:0! (when checking argument for argument mat1 in method wrapper_addmm)"
     ]
    }
   ],
   "source": [
    "torch.cuda.manual_seed(42)\n",
    "\n",
    "# Set the number of epochs\n",
    "epochs = 1000\n",
    "\n",
    "# Put data to target device\n",
    "X_train, y_train = X_train.to(device), y_train.to(device)\n",
    "X_test, y_test = X_test.to(device), y_test.to(device)\n",
    "\n",
    "# Build training and evaluation loop\n",
    "for epoch in range(epochs):\n",
    "    ### training\n",
    "    \n",
    "    # 1. forward pass\n",
    "    y_logits = model_0(X_train).squeeze()\n",
    "    y_pred = torch.round(torch.sigmoid(y_logits)) # turn logits -> pred probs -> pred labels\n",
    "    \n",
    "    # 2. Calculate loss/accuracy\n",
    "    # Takes in the results from the x_train (logits and compares it to the results of the y_train)\n",
    "    # I'm assuming it is to minimize the loss in that comparison\n",
    "    loss = loss_fn(y_logits, #BCEwithlogitsloss that just uses the logits, it has the sigmoid fuction built in\n",
    "                  y_train)\n",
    "    \n",
    "    acc = accuracy_fn(y_true = y_train,\n",
    "                     y_pred = y_pred)\n",
    "    \n",
    "    # 3. Optimizer zero grad\n",
    "    optimizer.zero_grad()\n",
    "    \n",
    "    #4. Loss backward (backpropogation)\n",
    "    loss.backward()\n",
    "    \n",
    "    # 5. Optimizer step( gradient descent)\n",
    "    optimizer.step() \n",
    "    \n",
    "    ### Testing\n",
    "    model_0.eval()\n",
    "    with torch.inference_mode():\n",
    "        # 1. Forward pass\n",
    "        test_logits = model_0(X_test).squeeze()\n",
    "        test_pred = torch.round(torch.sigmoid(test_logits))\n",
    "        \n",
    "        # 2. Calculate test loss/acc\n",
    "        test_loss = loss_fn(test_logits,\n",
    "                           y_test)\n",
    "        test_acc = accuracy_fn(y_true = y_test,\n",
    "                              y_pred = test_pred)\n",
    "        \n",
    "    if epoch % 10 == 0:\n",
    "        # loss:.5f - the number of decimal points\n",
    "        print(f\"Epoch: {epoch} | Loss: {loss:.5f} , Acc: {acc:.2f}% | Test loss: {test_loss:.5f}, Test acc: {test_acc:.2f}%\")\n",
    "    "
   ]
  },
  {
   "cell_type": "markdown",
   "id": "1ce56497",
   "metadata": {},
   "source": [
    "## 4. Make predictions and evaluate the model\n",
    "\n",
    "From the metrix it looks like our model isn't learning...\n",
    "So to inspect it let's make some predictions and make them visual!\n",
    "\n",
    "TO do so, we're going to import a function called 'plot_decision_boundary()'"
   ]
  },
  {
   "cell_type": "code",
   "execution_count": 74,
   "id": "3c0b19ae",
   "metadata": {},
   "outputs": [
    {
     "name": "stdout",
     "output_type": "stream",
     "text": [
      "Download helped_helper_functions.py\n"
     ]
    }
   ],
   "source": [
    "import requests\n",
    "from pathlib import Path\n",
    "\n",
    "# Download helper fnctions form Learn PyTorch rep (if it's not downloaded)\n",
    "\n",
    "if Path(\"helper_functions.py\").is_file():\n",
    "    print(\"helper_function.py already exists, skipping download\")\n",
    "else:\n",
    "    print(\"Download helped_helper_functions.py\")\n",
    "    request = requests.get(\"https://raw.githubusercontent.com/mrdbourke/pytorch-deep-learning/main/helper_functions.py\")\n",
    "    with open(\"helper_functions.py\", \"wb\") as f:\n",
    "        f.write(request.content)\n",
    "\n",
    "            \n",
    "from helper_functions import plot_predictions, plot_decision_boundary"
   ]
  },
  {
   "cell_type": "code",
   "execution_count": 108,
   "id": "edb4d760",
   "metadata": {},
   "outputs": [
    {
     "data": {
      "image/png": "[encoded data removed]",
      "text/plain": [
       "<Figure size 864x432 with 2 Axes>"
      ]
     },
     "metadata": {
      "needs_background": "light"
     },
     "output_type": "display_data"
    }
   ],
   "source": [
    "# Plot decision boundary of the model\n",
    "\n",
    "plt.figure(figsize = (12,6))\n",
    "plt.subplot(1,2,1)\n",
    "plt.title(\"Train\")\n",
    "plot_decision_boundary(model_0, X_train, y_train)\n",
    "plt.subplot(1,2,2)\n",
    "plt.title(\"Test\")\n",
    "plot_decision_boundary(model_0, X_test, y_test)\n",
    "\n"
   ]
  },
  {
   "cell_type": "markdown",
   "id": "d31c83a7",
   "metadata": {},
   "source": [
    "# 5. Improving a model (from a model perspective)\n",
    "\n",
    "* Add more layers\n",
    "* Add more hidden units\n",
    "* Fit for longer\n",
    "* Changing the activation function\n",
    "* Change the learning rate\n",
    "* Change the loss function\n",
    "\n",
    "\n",
    "These options are all from a mode's persepective, but we can work with the data as well. \n",
    "\n",
    "And because these options are all values we (as machine learning engineers and data scientists) can change, they are referred as **hyperparameters**\n",
    "\n",
    "\n",
    "Let's try to improve our model by:\n",
    "\n",
    "* Adding more hidden units: 5 -> 10\n",
    "* Increase the number of layers: 2 -> 3\n",
    "* Increase the number of epochs: 100 -> 1000"
   ]
  },
  {
   "cell_type": "code",
   "execution_count": 110,
   "id": "39d6fa41",
   "metadata": {},
   "outputs": [
    {
     "data": {
      "text/plain": [
       "OrderedDict([('layer_1.weight',\n",
       "              tensor([[ 0.6210, -0.4982],\n",
       "                      [-0.4901,  0.5256],\n",
       "                      [ 0.6174,  0.1405],\n",
       "                      [-0.6584, -0.3736],\n",
       "                      [-0.5072, -0.1864]])),\n",
       "             ('layer_1.bias',\n",
       "              tensor([ 0.4692,  0.2648, -0.5399, -0.3082,  0.4470])),\n",
       "             ('layer_2.weight',\n",
       "              tensor([[ 0.2511, -0.0557,  0.2045, -0.1229,  0.1256]])),\n",
       "             ('layer_2.bias', tensor([-0.1481]))])"
      ]
     },
     "execution_count": 110,
     "metadata": {},
     "output_type": "execute_result"
    }
   ],
   "source": [
    "model_0.state_dict()"
   ]
  },
  {
   "cell_type": "code",
   "execution_count": null,
   "id": "7deb3320",
   "metadata": {},
   "outputs": [],
   "source": []
  },
  {
   "cell_type": "code",
   "execution_count": 144,
   "id": "c830bc49",
   "metadata": {},
   "outputs": [],
   "source": [
    "class CircleModelV1(nn.Module):\n",
    "    def __init__(self):\n",
    "        super().__init__()\n",
    "        self.layer_1 = nn.Linear(in_features = 2, out_features = 10)\n",
    "        self.layer_2 = nn.Linear(in_features = 10, out_features = 10)\n",
    "        self.layer_3 = nn.Linear(in_features =10, out_features = 1)\n",
    "    def forward(self, x):\n",
    "        return self.layer_3(self.layer_2(self.layer_1(x))) #This way of writing operations leverages speed ups where possible behind the scenes\n",
    "#         z = self.layer_1(x)\n",
    "#         z = self.layer_2(z)\n",
    "#         z = self.layer_3(z)\n",
    "#         return 4            \n",
    "\n",
    "model_1 = CircleModelV1().to(device)\n",
    "model_1"
   ]
  },
  {
   "cell_type": "code",
   "execution_count": 138,
   "id": "de4dd8a6",
   "metadata": {},
   "outputs": [],
   "source": [
    "# Create a loss function\n",
    "loss_fn = nn.BCEWithLogitsLoss()\n",
    "\n",
    "# Create an optimizer\n",
    "optimizer = torch.optim.SGD(params=model_1.parameters(),\n",
    "                           lr = 0.1)\n",
    "# Write a training and evaluation loop"
   ]
  },
  {
   "cell_type": "code",
   "execution_count": null,
   "id": "3f2f337e",
   "metadata": {},
   "outputs": [],
   "source": [
    "# Write a training and evaluation loop for model_1\n",
    "torch.manual_seed(42)\n",
    "torch.cuda.manual_seed(42)\n",
    "\n",
    "#Train for longer\n",
    "epochs = 1000"
   ]
  },
  {
   "cell_type": "code",
   "execution_count": 148,
   "id": "1910570b",
   "metadata": {},
   "outputs": [
    {
     "name": "stdout",
     "output_type": "stream",
     "text": [
      "Epoch: 0 | Loss: 0.70526, Acc: 50.00% | Test loss: 0.70688, Test acc: 50.00%\n",
      "Epoch: 100 | Loss: 0.70526, Acc: 50.00% | Test loss: 0.70688, Test acc: 50.00%\n",
      "Epoch: 200 | Loss: 0.70526, Acc: 50.00% | Test loss: 0.70688, Test acc: 50.00%\n",
      "Epoch: 300 | Loss: 0.70526, Acc: 50.00% | Test loss: 0.70688, Test acc: 50.00%\n",
      "Epoch: 400 | Loss: 0.70526, Acc: 50.00% | Test loss: 0.70688, Test acc: 50.00%\n",
      "Epoch: 500 | Loss: 0.70526, Acc: 50.00% | Test loss: 0.70688, Test acc: 50.00%\n",
      "Epoch: 600 | Loss: 0.70526, Acc: 50.00% | Test loss: 0.70688, Test acc: 50.00%\n",
      "Epoch: 700 | Loss: 0.70526, Acc: 50.00% | Test loss: 0.70688, Test acc: 50.00%\n",
      "Epoch: 800 | Loss: 0.70526, Acc: 50.00% | Test loss: 0.70688, Test acc: 50.00%\n",
      "Epoch: 900 | Loss: 0.70526, Acc: 50.00% | Test loss: 0.70688, Test acc: 50.00%\n"
     ]
    }
   ],
   "source": [
    "# Put data on the target device\n",
    "X_train, y_train = X_train.to(device), y_train.to(device)\n",
    "X_test, y_test = X_test.to(device), y_test.to(device)\n",
    "\n",
    "for epoch in range(epochs):\n",
    "    ### Training\n",
    "    model_1.train()\n",
    "    \n",
    "    # 1. Forward pass\n",
    "    y_logits = model_1(X_train).squeeze()\n",
    "    y_pred = torch.round(torch.sigmoid(y_logits)) # logits -> pred probabilities -> predictions labels\n",
    "    \n",
    "    # 2. Calculate the loss/acc\n",
    "    loss = loss_fn(y_logits, y_train)\n",
    "    acc = accuracy_fn(y_true = y_train,\n",
    "                     y_pred = y_pred)\n",
    "    \n",
    "    # 3. Optimizer zero grad\n",
    "    optimizer.zero_grad()\n",
    "    \n",
    "    # 4. Loss backwards (backpropogation)\n",
    "    loss.backward()\n",
    "    \n",
    "    # 5. Optimizer step (gradient descent)\n",
    "    # adjustments to all of our models parameters to hopefully create a better representation of the data\n",
    "    \n",
    "    ### Testing\n",
    "    model_1.eval()\n",
    "    with torch.inference_mode(): # to make predictions\n",
    "        # 1. Forward pass\n",
    "        test_logits = model_1(X_test).squeeze()\n",
    "        test_pred  = torch.round(torch.sigmoid(test_logits))\n",
    "        \n",
    "        # 2. Calculate loss\n",
    "        test_loss = loss_fn(test_logits,\n",
    "                           y_test)\n",
    "        test_acc = accuracy_fn(y_true = y_test,\n",
    "                              y_pred = test_pred)\n",
    "        \n",
    "    # Print out What's happening\n",
    "    \n",
    "    if epoch % 100 == 0:\n",
    "        print(f\"Epoch: {epoch} | Loss: {loss:.5f}, Acc: {acc:.2f}% | Test loss: {test_loss:.5f}, Test acc: {test_acc:.2f}%\")\n",
    "    \n",
    "\n",
    "    "
   ]
  },
  {
   "cell_type": "code",
   "execution_count": null,
   "id": "1aed0588",
   "metadata": {},
   "outputs": [],
   "source": []
  },
  {
   "cell_type": "code",
   "execution_count": null,
   "id": "f7c27a3b",
   "metadata": {},
   "outputs": [],
   "source": []
  },
  {
   "cell_type": "code",
   "execution_count": null,
   "id": "c09d9fc6",
   "metadata": {},
   "outputs": [],
   "source": []
  },
  {
   "cell_type": "code",
   "execution_count": null,
   "id": "3a2091e4",
   "metadata": {},
   "outputs": [],
   "source": []
  },
  {
   "cell_type": "code",
   "execution_count": null,
   "id": "8ba0398f",
   "metadata": {},
   "outputs": [],
   "source": []
  },
  {
   "cell_type": "code",
   "execution_count": null,
   "id": "7647385a",
   "metadata": {},
   "outputs": [],
   "source": []
  },
  {
   "cell_type": "code",
   "execution_count": null,
   "id": "4f92832b",
   "metadata": {},
   "outputs": [],
   "source": []
  }
 ],
 "metadata": {
  "kernelspec": {
   "display_name": "Python 3 (ipykernel)",
   "language": "python",
   "name": "python3"
  },
  "language_info": {
   "codemirror_mode": {
    "name": "ipython",
    "version": 3
   },
   "file_extension": ".py",
   "mimetype": "text/x-python",
   "name": "python",
   "nbconvert_exporter": "python",
   "pygments_lexer": "ipython3",
   "version": "3.9.12"
  }
 },
 "nbformat": 4,
 "nbformat_minor": 5
}
