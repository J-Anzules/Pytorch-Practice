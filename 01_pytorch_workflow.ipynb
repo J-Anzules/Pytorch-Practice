{
 "cells": [
  {
   "cell_type": "code",
   "execution_count": 1,
   "id": "ae025470",
   "metadata": {},
   "outputs": [
    {
     "data": {
      "text/plain": [
       "'1.12.0+cpu'"
      ]
     },
     "execution_count": 1,
     "metadata": {},
     "output_type": "execute_result"
    }
   ],
   "source": [
    "import torch\n",
    "from torch import nn # contains all of PyTorch's building blocks for neural networks\n",
    "import matplotlib.pyplot as plt\n",
    "import numpy as np\n",
    "\n",
    "# Check PyTorch version\n",
    "torch.__version__"
   ]
  },
  {
   "cell_type": "markdown",
   "id": "da28f8f4",
   "metadata": {},
   "source": [
    "# Data (preparing and loading)\n",
    "\n"
   ]
  },
  {
   "cell_type": "code",
   "execution_count": 14,
   "id": "a0b85165",
   "metadata": {},
   "outputs": [],
   "source": [
    "# Create *known* parameters\n",
    "weight = 0.7\n",
    "bias = 0.3\n",
    "\n",
    "# Create \n",
    "start = 0\n",
    "end = 1\n",
    "step = 0.02\n",
    "X = torch.arange(start, end, step).unsqueeze(dim = 1)\n",
    "y = weight * X + bias"
   ]
  },
  {
   "cell_type": "code",
   "execution_count": 15,
   "id": "3c99e87d",
   "metadata": {
    "collapsed": true
   },
   "outputs": [
    {
     "data": {
      "text/plain": [
       "(tensor([[0.0000],\n",
       "         [0.0200],\n",
       "         [0.0400],\n",
       "         [0.0600],\n",
       "         [0.0800],\n",
       "         [0.1000],\n",
       "         [0.1200],\n",
       "         [0.1400],\n",
       "         [0.1600],\n",
       "         [0.1800]]),\n",
       " tensor([[0.3000],\n",
       "         [0.3140],\n",
       "         [0.3280],\n",
       "         [0.3420],\n",
       "         [0.3560],\n",
       "         [0.3700],\n",
       "         [0.3840],\n",
       "         [0.3980],\n",
       "         [0.4120],\n",
       "         [0.4260]]),\n",
       " 50,\n",
       " 50)"
      ]
     },
     "execution_count": 15,
     "metadata": {},
     "output_type": "execute_result"
    }
   ],
   "source": [
    "# Looking at the values\n",
    "X[:10], y[:10], len (X), len(y)"
   ]
  },
  {
   "cell_type": "code",
   "execution_count": 20,
   "id": "d6f8d929",
   "metadata": {
    "collapsed": true
   },
   "outputs": [
    {
     "data": {
      "text/plain": [
       "tensor([[0.3000],\n",
       "        [0.3140],\n",
       "        [0.3280],\n",
       "        [0.3420],\n",
       "        [0.3560],\n",
       "        [0.3700],\n",
       "        [0.3840],\n",
       "        [0.3980],\n",
       "        [0.4120],\n",
       "        [0.4260],\n",
       "        [0.4400],\n",
       "        [0.4540],\n",
       "        [0.4680],\n",
       "        [0.4820],\n",
       "        [0.4960],\n",
       "        [0.5100],\n",
       "        [0.5240],\n",
       "        [0.5380],\n",
       "        [0.5520],\n",
       "        [0.5660],\n",
       "        [0.5800],\n",
       "        [0.5940],\n",
       "        [0.6080],\n",
       "        [0.6220],\n",
       "        [0.6360],\n",
       "        [0.6500],\n",
       "        [0.6640],\n",
       "        [0.6780],\n",
       "        [0.6920],\n",
       "        [0.7060],\n",
       "        [0.7200],\n",
       "        [0.7340],\n",
       "        [0.7480],\n",
       "        [0.7620],\n",
       "        [0.7760],\n",
       "        [0.7900],\n",
       "        [0.8040],\n",
       "        [0.8180],\n",
       "        [0.8320],\n",
       "        [0.8460]])"
      ]
     },
     "execution_count": 20,
     "metadata": {},
     "output_type": "execute_result"
    }
   ],
   "source": [
    "y_train"
   ]
  },
  {
   "cell_type": "code",
   "execution_count": 21,
   "id": "216e6649",
   "metadata": {},
   "outputs": [
    {
     "data": {
      "text/plain": [
       "(40, 40, 10, 10)"
      ]
     },
     "execution_count": 21,
     "metadata": {},
     "output_type": "execute_result"
    }
   ],
   "source": [
    "# create a train/test split\n",
    "train_split = int(0.8 * len(X))\n",
    "X_train, y_train = X[:train_split], y[:train_split]\n",
    "X_test, y_test = X[train_split:], y[train_split:]\n",
    "\n",
    "len(X_train), len(y_train), len(X_test), len(y_test)"
   ]
  },
  {
   "cell_type": "code",
   "execution_count": 287,
   "id": "1e00cdfe",
   "metadata": {},
   "outputs": [],
   "source": [
    "# Visualizing\n",
    "\n",
    "def plot_predictions(train_data = X_train, \n",
    "                    train_labels = y_train,\n",
    "                    test_data = X_test,\n",
    "                    test_labels = y_test,\n",
    "                    predictions=None):\n",
    "    \"\"\"\n",
    "    Plots trainning data, test data, and compares predictions\n",
    "    \"\"\"\n",
    "    plt.figure(figsize=(10,7))\n",
    "    \n",
    "    #Plot training data in blue\n",
    "    plt.scatter(train_data, train_labels, c=\"b\", s=4, label = \"training data\")\n",
    "    \n",
    "    # Plot test data in green\n",
    "    plt.scatter(test_data, test_labels, c = \"g\", s=4, label = \"Testing data\")\n",
    "    \n",
    "    #Are there predictions?\n",
    "    if predictions is not None:\n",
    "        #Plot the predictions if they exist\n",
    "        plt.scatter(test_data, predictions, c = \"r\", s=4, label = \"Predictions\")\n",
    "        \n",
    "    # Show the legend\n",
    "    plt.legend(prop={\"size\":14})"
   ]
  },
  {
   "cell_type": "code",
   "execution_count": 288,
   "id": "2a881681",
   "metadata": {
    "scrolled": true
   },
   "outputs": [
    {
     "data": {
      "image/png": "[encoded data removed]",
      "text/plain": [
       "<Figure size 720x504 with 1 Axes>"
      ]
     },
     "metadata": {
      "needs_background": "light"
     },
     "output_type": "display_data"
    }
   ],
   "source": [
    "plot_predictions()"
   ]
  },
  {
   "cell_type": "code",
   "execution_count": 289,
   "id": "8766ff2e",
   "metadata": {},
   "outputs": [],
   "source": [
    "# Create a linear regression omdel class"
   ]
  },
  {
   "cell_type": "code",
   "execution_count": 309,
   "id": "49e62aae",
   "metadata": {},
   "outputs": [],
   "source": [
    "class LinearRegressionModel(nn.Module): # <- Almost everything in PyTorch inherits from nn.Modeuls\n",
    "    def __init__(self):\n",
    "        super().__init__()\n",
    "        self.weights = nn.Parameter(torch.rand(1,\n",
    "                                              requires_grad=True,\n",
    "                                              dtype=torch.float))\n",
    "        self.bias = nn.Parameter(torch.randn(1,\n",
    "                                            requires_grad=True,\n",
    "                                            dtype=torch.float))\n",
    "    #Forward method to define the computation in the model\n",
    "    def forward(self, x:torch.Tensor) -> torch.Tensor: #<- \"x\" is the input data\n",
    "        return self.weights * x + self.bias # this is the linear regression formula\n"
   ]
  },
  {
   "cell_type": "code",
   "execution_count": 344,
   "id": "98bb9ed7",
   "metadata": {},
   "outputs": [
    {
     "data": {
      "text/plain": [
       "[Parameter containing:\n",
       " tensor([0.8823], requires_grad=True),\n",
       " Parameter containing:\n",
       " tensor([-0.6382], requires_grad=True)]"
      ]
     },
     "execution_count": 344,
     "metadata": {},
     "output_type": "execute_result"
    }
   ],
   "source": [
    "# Create a random seed\n",
    "torch.manual_seed(42)\n",
    "\n",
    "#Create an instance of the model (this is a subclass of nn.Module)\n",
    "\n",
    "model_0 = LinearRegressionModel()\n",
    "\n",
    "# Check out the parameters\n",
    "list(model_0.parameters())"
   ]
  },
  {
   "cell_type": "code",
   "execution_count": 301,
   "id": "687c0e81",
   "metadata": {},
   "outputs": [
    {
     "data": {
      "text/plain": [
       "OrderedDict([('weights', tensor([0.8823])), ('bias', tensor([-0.6382]))])"
      ]
     },
     "execution_count": 301,
     "metadata": {},
     "output_type": "execute_result"
    }
   ],
   "source": [
    "# List named parameters\n",
    "model_0.state_dict()"
   ]
  },
  {
   "cell_type": "code",
   "execution_count": 302,
   "id": "61ded43c",
   "metadata": {},
   "outputs": [
    {
     "data": {
      "text/plain": [
       "(0.7, 0.3)"
      ]
     },
     "execution_count": 302,
     "metadata": {},
     "output_type": "execute_result"
    }
   ],
   "source": [
    "weight, bias"
   ]
  },
  {
   "cell_type": "markdown",
   "id": "9d742556",
   "metadata": {},
   "source": [
    "# Making prediction using 'torch.inference_mode()'"
   ]
  },
  {
   "cell_type": "code",
   "execution_count": 313,
   "id": "b0863a50",
   "metadata": {},
   "outputs": [
    {
     "data": {
      "text/plain": [
       "tensor([[0.0677],\n",
       "        [0.0853],\n",
       "        [0.1030],\n",
       "        [0.1206],\n",
       "        [0.1382],\n",
       "        [0.1559],\n",
       "        [0.1735],\n",
       "        [0.1912],\n",
       "        [0.2088],\n",
       "        [0.2265]])"
      ]
     },
     "execution_count": 313,
     "metadata": {},
     "output_type": "execute_result"
    }
   ],
   "source": [
    "# make predicitons with model\n",
    "\n",
    "with torch.inference_mode(): #removes all gradient tracking, makes the code faster if no need for tracking\n",
    "    y_preds = model_0(X_test)\n",
    "    \n",
    "y_preds"
   ]
  },
  {
   "cell_type": "code",
   "execution_count": 311,
   "id": "d04de245",
   "metadata": {},
   "outputs": [],
   "source": [
    "y_preds = model_0(X_test)"
   ]
  },
  {
   "cell_type": "code",
   "execution_count": 305,
   "id": "e2b33f59",
   "metadata": {},
   "outputs": [
    {
     "data": {
      "text/plain": [
       "tensor([[0.8600],\n",
       "        [0.8740],\n",
       "        [0.8880],\n",
       "        [0.9020],\n",
       "        [0.9160],\n",
       "        [0.9300],\n",
       "        [0.9440],\n",
       "        [0.9580],\n",
       "        [0.9720],\n",
       "        [0.9860]])"
      ]
     },
     "execution_count": 305,
     "metadata": {},
     "output_type": "execute_result"
    }
   ],
   "source": [
    "y_test"
   ]
  },
  {
   "cell_type": "code",
   "execution_count": 314,
   "id": "7c163534",
   "metadata": {},
   "outputs": [
    {
     "data": {
      "image/png": "[encoded data removed]",
      "text/plain": [
       "<Figure size 720x504 with 1 Axes>"
      ]
     },
     "metadata": {
      "needs_background": "light"
     },
     "output_type": "display_data"
    }
   ],
   "source": [
    "plot_predictions(predictions=y_preds)"
   ]
  },
  {
   "cell_type": "code",
   "execution_count": 345,
   "id": "3936287d",
   "metadata": {},
   "outputs": [],
   "source": [
    "# Setup a loss function\n",
    "loss_fn = nn.L1Loss()\n",
    "\n",
    "# Setup an optimizer\n",
    "optimizer = torch.optim.SGD(params=model_0.parameters(),\n",
    "                           lr=0.001) #lr = learning rate"
   ]
  },
  {
   "cell_type": "code",
   "execution_count": 346,
   "id": "517aeaca",
   "metadata": {},
   "outputs": [
    {
     "name": "stdout",
     "output_type": "stream",
     "text": [
      "Epoch: 0 | Loss: 0.8670692443847656 | Test loss: 0.7745875120162964\n",
      "OrderedDict([('weights', tensor([0.8827])), ('bias', tensor([-0.6372]))])\n",
      "Epoch: 100 | Loss: 0.7518607378005981 | Test loss: 0.6398794054985046\n",
      "OrderedDict([('weights', tensor([0.9217])), ('bias', tensor([-0.5372]))])\n",
      "Epoch: 200 | Loss: 0.6366522908210754 | Test loss: 0.5051712989807129\n",
      "OrderedDict([('weights', tensor([0.9607])), ('bias', tensor([-0.4372]))])\n",
      "Epoch: 300 | Loss: 0.5214439034461975 | Test loss: 0.37046319246292114\n",
      "OrderedDict([('weights', tensor([0.9997])), ('bias', tensor([-0.3372]))])\n",
      "Epoch: 400 | Loss: 0.4062329828739166 | Test loss: 0.23574963212013245\n",
      "OrderedDict([('weights', tensor([1.0387])), ('bias', tensor([-0.2372]))])\n",
      "Epoch: 500 | Loss: 0.2910206913948059 | Test loss: 0.1010347232222557\n",
      "OrderedDict([('weights', tensor([1.0777])), ('bias', tensor([-0.1372]))])\n",
      "Epoch: 600 | Loss: 0.17580853402614594 | Test loss: 0.03444422036409378\n",
      "OrderedDict([('weights', tensor([1.1167])), ('bias', tensor([-0.0372]))])\n",
      "Epoch: 700 | Loss: 0.11182554066181183 | Test loss: 0.1269063502550125\n",
      "OrderedDict([('weights', tensor([1.1374])), ('bias', tensor([0.0376]))])\n",
      "Epoch: 800 | Loss: 0.09523044526576996 | Test loss: 0.16561654210090637\n",
      "OrderedDict([('weights', tensor([1.1362])), ('bias', tensor([0.0774]))])\n",
      "Epoch: 900 | Loss: 0.08845303952693939 | Test loss: 0.18091067671775818\n",
      "OrderedDict([('weights', tensor([1.1267])), ('bias', tensor([0.1012]))])\n",
      "Epoch: 1000 | Loss: 0.08410903066396713 | Test loss: 0.1849890649318695\n",
      "OrderedDict([('weights', tensor([1.1134])), ('bias', tensor([0.1171]))])\n",
      "Epoch: 1100 | Loss: 0.08050526678562164 | Test loss: 0.18167154490947723\n",
      "OrderedDict([('weights', tensor([1.0977])), ('bias', tensor([0.1277]))])\n",
      "Epoch: 1200 | Loss: 0.07697675377130508 | Test loss: 0.17751845717430115\n",
      "OrderedDict([('weights', tensor([1.0818])), ('bias', tensor([0.1377]))])\n",
      "Epoch: 1300 | Loss: 0.07348687946796417 | Test loss: 0.17175140976905823\n",
      "OrderedDict([('weights', tensor([1.0654])), ('bias', tensor([0.1465]))])\n",
      "Epoch: 1400 | Loss: 0.07005207240581512 | Test loss: 0.16375215351581573\n",
      "OrderedDict([('weights', tensor([1.0484])), ('bias', tensor([0.1537]))])\n",
      "Epoch: 1500 | Loss: 0.06661775708198547 | Test loss: 0.15568427741527557\n",
      "OrderedDict([('weights', tensor([1.0313])), ('bias', tensor([0.1609]))])\n",
      "Epoch: 1600 | Loss: 0.06318317353725433 | Test loss: 0.14768508076667786\n",
      "OrderedDict([('weights', tensor([1.0142])), ('bias', tensor([0.1681]))])\n",
      "Epoch: 1700 | Loss: 0.05974862724542618 | Test loss: 0.1396171599626541\n",
      "OrderedDict([('weights', tensor([0.9971])), ('bias', tensor([0.1752]))])\n",
      "Epoch: 1800 | Loss: 0.05631425976753235 | Test loss: 0.1316179484128952\n",
      "OrderedDict([('weights', tensor([0.9800])), ('bias', tensor([0.1824]))])\n",
      "Epoch: 1900 | Loss: 0.05287950113415718 | Test loss: 0.12355003505945206\n",
      "OrderedDict([('weights', tensor([0.9629])), ('bias', tensor([0.1896]))])\n",
      "Epoch: 2000 | Loss: 0.04944493994116783 | Test loss: 0.11551644653081894\n",
      "OrderedDict([('weights', tensor([0.9458])), ('bias', tensor([0.1967]))])\n",
      "Epoch: 2100 | Loss: 0.04601091146469116 | Test loss: 0.10751722753047943\n",
      "OrderedDict([('weights', tensor([0.9287])), ('bias', tensor([0.2039]))])\n",
      "Epoch: 2200 | Loss: 0.04257580637931824 | Test loss: 0.09944932162761688\n",
      "OrderedDict([('weights', tensor([0.9116])), ('bias', tensor([0.2111]))])\n",
      "Epoch: 2300 | Loss: 0.03914188593626022 | Test loss: 0.09145011007785797\n",
      "OrderedDict([('weights', tensor([0.8946])), ('bias', tensor([0.2183]))])\n",
      "Epoch: 2400 | Loss: 0.03570672124624252 | Test loss: 0.08345088362693787\n",
      "OrderedDict([('weights', tensor([0.8775])), ('bias', tensor([0.2255]))])\n",
      "Epoch: 2500 | Loss: 0.03227275237441063 | Test loss: 0.07538297027349472\n",
      "OrderedDict([('weights', tensor([0.8604])), ('bias', tensor([0.2326]))])\n",
      "Epoch: 2600 | Loss: 0.02883819304406643 | Test loss: 0.06734941899776459\n",
      "OrderedDict([('weights', tensor([0.8433])), ('bias', tensor([0.2398]))])\n",
      "Epoch: 2700 | Loss: 0.025403369218111038 | Test loss: 0.059350185096263885\n",
      "OrderedDict([('weights', tensor([0.8262])), ('bias', tensor([0.2470]))])\n",
      "Epoch: 2800 | Loss: 0.021969063207507133 | Test loss: 0.051282383501529694\n",
      "OrderedDict([('weights', tensor([0.8091])), ('bias', tensor([0.2542]))])\n",
      "Epoch: 2900 | Loss: 0.01853444054722786 | Test loss: 0.04328335449099541\n",
      "OrderedDict([('weights', tensor([0.7920])), ('bias', tensor([0.2614]))])\n"
     ]
    }
   ],
   "source": [
    "torch.manual_seed(42)\n",
    "# an epock is one loop through the data... (this is a hyperparameter because we've set it ourselves)\n",
    "\n",
    "epochs = 3000\n",
    "\n",
    "# Track different values\n",
    "epoch_count = []\n",
    "loss_values = []\n",
    "test_loss_values = []\n",
    "\n",
    "\n",
    "# 1. loop through the data\n",
    "\n",
    "for epoch in range(epochs):\n",
    "    model_0.train() # train mode in PyTorch sets all parameters that require gradients to require gradients\n",
    "    \n",
    "    #Forward pass\n",
    "    y_pred = model_0(X_train) #We learn patterns on the training data to evaluate our model on the test data\n",
    "    \n",
    "    #Calculate the loss\n",
    "    loss = loss_fn(y_pred, y_train) #(input, target)\n",
    "#     print(f\"Loss: {loss}\")\n",
    "    \n",
    "    \n",
    "    # Optimizer zero grad\n",
    "    optimizer.zero_grad()\n",
    "    \n",
    "    # Perform backpropogation on the loss with respect to the parameters of the model\n",
    "    loss.backward()\n",
    "    \n",
    "    # Step the optimizer (perform gradient descent)\n",
    "    optimizer.step() # by default how the optimizer changes will acculimate through the loop so.. we have to zero them above in step 3 for the next iteration of the loop\n",
    "    \n",
    "    ### Testing\n",
    "    model_0.eval() # turns off different settings in the model not needed for evaluation/testing\n",
    "    with torch.inference_mode(): # turns off gradient tracking n a couple of more things behind the scenes\n",
    "        # 1. Do the forward pass\n",
    "        test_pred = model_0(X_test)\n",
    "        \n",
    "        # 2. Calculate the loss\n",
    "        test_loss = loss_fn(test_pred, y_test)\n",
    "    \n",
    "    # Print out what's happening\n",
    "    if epoch % 100 == 0:\n",
    "        \n",
    "        epoch_count.append(epoch)\n",
    "        loss_values.append(loss)\n",
    "        test_loss_values.append(test_loss)\n",
    "        print(f\"Epoch: {epoch} | Loss: {loss} | Test loss: {test_loss}\")\n",
    "    \n",
    "        # Print out model state_dict()\n",
    "        print(model_0.state_dict())"
   ]
  },
  {
   "cell_type": "code",
   "execution_count": 330,
   "id": "1a9221e2",
   "metadata": {},
   "outputs": [
    {
     "data": {
      "text/plain": [
       "(0.7, 0.3)"
      ]
     },
     "execution_count": 330,
     "metadata": {},
     "output_type": "execute_result"
    }
   ],
   "source": [
    "weight, bias"
   ]
  },
  {
   "cell_type": "code",
   "execution_count": 347,
   "id": "6733f63a",
   "metadata": {},
   "outputs": [],
   "source": [
    "with torch.inference_mode():\n",
    "    y_pred_new = model_0(X_test)"
   ]
  },
  {
   "cell_type": "code",
   "execution_count": 348,
   "id": "5723454d",
   "metadata": {
    "scrolled": true
   },
   "outputs": [
    {
     "data": {
      "image/png": "[encoded data removed]",
      "text/plain": [
       "<Figure size 720x504 with 1 Axes>"
      ]
     },
     "metadata": {
      "needs_background": "light"
     },
     "output_type": "display_data"
    }
   ],
   "source": [
    "plot_predictions(predictions=y_pred_new)"
   ]
  },
  {
   "cell_type": "code",
   "execution_count": 355,
   "id": "c8713a8f",
   "metadata": {},
   "outputs": [
    {
     "data": {
      "text/plain": [
       "array([0.86706924, 0.75186074, 0.6366523 , 0.5214439 , 0.40623298,\n",
       "       0.2910207 , 0.17580853, 0.11182554, 0.09523045, 0.08845304,\n",
       "       0.08410903, 0.08050527, 0.07697675, 0.07348688, 0.07005207,\n",
       "       0.06661776, 0.06318317, 0.05974863, 0.05631426, 0.0528795 ,\n",
       "       0.04944494, 0.04601091, 0.04257581, 0.03914189, 0.03570672,\n",
       "       0.03227275, 0.02883819, 0.02540337, 0.02196906, 0.01853444],\n",
       "      dtype=float32)"
      ]
     },
     "execution_count": 355,
     "metadata": {},
     "output_type": "execute_result"
    }
   ],
   "source": []
  },
  {
   "cell_type": "code",
   "execution_count": 358,
   "id": "fdd53810",
   "metadata": {},
   "outputs": [
    {
     "data": {
      "image/png": "[encoded data removed]",
      "text/plain": [
       "<Figure size 432x288 with 1 Axes>"
      ]
     },
     "metadata": {
      "needs_background": "light"
     },
     "output_type": "display_data"
    }
   ],
   "source": [
    "# Plot the loss curves\n",
    "plt.plot(epoch_count, np.array(torch.tensor(loss_values).numpy()), label = \"train loss\")\n",
    "plt.plot(epoch_count, np.array(torch.tensor(test_loss_values).numpy()), label = \"test loss\")\n",
    "plt.title(\"Ttraining and test loss curves\")\n",
    "plt.ylabel(\"Loss\")\n",
    "plt.xlabel(\"Epochs\")\n",
    "plt.legend();"
   ]
  },
  {
   "cell_type": "code",
   "execution_count": null,
   "id": "9dc5b6e0",
   "metadata": {},
   "outputs": [],
   "source": []
  },
  {
   "cell_type": "code",
   "execution_count": null,
   "id": "2e6e4953",
   "metadata": {},
   "outputs": [],
   "source": []
  },
  {
   "cell_type": "code",
   "execution_count": null,
   "id": "c49f64b9",
   "metadata": {},
   "outputs": [],
   "source": []
  }
 ],
 "metadata": {
  "kernelspec": {
   "display_name": "Python 3 (ipykernel)",
   "language": "python",
   "name": "python3"
  },
  "language_info": {
   "codemirror_mode": {
    "name": "ipython",
    "version": 3
   },
   "file_extension": ".py",
   "mimetype": "text/x-python",
   "name": "python",
   "nbconvert_exporter": "python",
   "pygments_lexer": "ipython3",
   "version": "3.9.12"
  }
 },
 "nbformat": 4,
 "nbformat_minor": 5
}
